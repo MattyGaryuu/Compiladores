{
 "cells": [
  {
   "attachments": {},
   "cell_type": "markdown",
   "metadata": {},
   "source": [
    "O nosso grupo, apos pesquisas, decidiu utilizar-se de hash para ambas tabelas e palavras reservadas da linguagem, pois apos pesquisas, descobrirmos que ha uma funcao em python que internamente utiliza-se de um algoritmo de hashmap chamada dict"
   ]
  },
  {
   "attachments": {},
   "cell_type": "markdown",
   "metadata": {},
   "source": [
    "**Sintaxes**"
   ]
  },
  {
   "cell_type": "code",
   "execution_count": 1,
   "metadata": {},
   "outputs": [
    {
     "name": "stdout",
     "output_type": "stream",
     "text": [
      "<constant> = ['<integer-constant>', '<character-constant>', '<constant-identifier>']\n",
      "<constant identifier> = ['<identifier>']\n",
      "<identifier> = ['<letter> <identifier-2>']\n",
      "<identifier-2> = ['<letter-or-digit>', '']\n",
      "<letter-or-digit> = ['<letter>', '<digit>']\n",
      "<integer-constant> = ['<digit> <integer-constant2>']\n",
      "<integer-constant2> = ['<digit>', '']\n",
      "<character-constant> = [\"' <letter-or-digit> '\", '\" <letter-or-digit> <identifier-2> \"']\n",
      "<letter> = ['a', 'b', 'c', 'd', 'e', 'f', 'g', 'h', 'i', 'j', 'k', 'l', 'm', 'n', 'o', 'p', 'q', 'r', 's', 't', 'u', 'v', 'w', 'x', 'y', 'z', 'A', 'B', 'C', 'D', 'E', 'F', 'G', 'H', 'I', 'J', 'K', 'L', 'M', 'N', 'O', 'P', 'Q', 'R', 'S', 'T', 'W', 'V', 'W', 'X', 'Y', 'Z']\n",
      "<digit> = ['0', '1', '2', '3', '4', '5', '6', '7', '8', '9']\n",
      "<special-symbol> = ['+', '-', '*', '=', '<>', '<', '>', '<=', '>= |(', ')', '[', ']', ':=', '.', ',', ';', ':', '..', 'div', 'or', 'and', 'not', 'if', 'then', 'else', 'of', 'while', 'do', 'begin', 'end', 'read', 'write', 'var', 'array', 'function', 'procedure', 'program', 'true', 'false', 'char', 'integer', 'boolean']\n"
     ]
    }
   ],
   "source": [
    "#Uma funcao para a abertura do arquivo foi feita para que possa ser reaproveitada pra a leitura da sintaxe de um futuro parse\n",
    "def openTXT(filename):\n",
    "    try:\n",
    "        arq = open(filename,'r')\n",
    "        var = dict()\n",
    "\n",
    "        for line in arq:\n",
    "            aux = line.replace(\" | \",\"::=\").strip().split(\"::=\") #lista auxiliar que transforma | em ::= para que toda vez que seja lixo ::= a string seja quebrada em 2 partes\n",
    "            if aux[0] not in var: #Sempre a primeira parte da variavel auxiliar sera o nome do dict, se ela nao constar em var sera criada uma nova palavra no dict\n",
    "                var[str(aux[0])] = []\n",
    "            \n",
    "            #adicionar \n",
    "            for i in range(1,len(aux)):\n",
    "                var[str(aux[0])].append(str(aux[i]))\n",
    "        #print\n",
    "        for i in var:\n",
    "            print(f'{i} = {var.get(i)}')\n",
    "        return var\n",
    "    except:\n",
    "        print(\"Error in read the file\")    \n",
    "#sintax = openTXT(\"Sintax.txt\",dict())\n",
    "token = openTXT(\"tokens.txt\")\n",
    "#print(token)"
   ]
  },
  {
   "attachments": {},
   "cell_type": "markdown",
   "metadata": {},
   "source": [
    "**Abrir um arquivo txt que contenha um mini pascal**"
   ]
  },
  {
   "cell_type": "code",
   "execution_count": 29,
   "metadata": {},
   "outputs": [
    {
     "name": "stdout",
     "output_type": "stream",
     "text": [
      "//exemplo\n",
      "program Exemplo;\n",
      "var\n",
      "  numero1: integer;\n",
      "  numero2: double;\n",
      "  i: integer;\n",
      "\n",
      "begin\n",
      "  numero1 := 10;\n",
      "  numero2 := 10.0;\n",
      "\n",
      "  for i := 1 to 5 do\n",
      "  begin\n",
      "    writeln('i:', i);\n",
      "    numero1 := numero1 + 1;\n",
      "    numero2 := numero2 + 2.0;\n",
      "  end;\n",
      "\n",
      "  writeln('Fim do programa.');\n",
      "end.\n",
      "\n"
     ]
    }
   ],
   "source": [
    "try:\n",
    "    filename = str(input('File name: '))\n",
    "    arq = open(filename + '.txt','r')\n",
    "    code = \"\"\n",
    "    code_line = []\n",
    "\n",
    "    for line in arq:\n",
    "        code = code + line\n",
    "        code_line.append(line.strip())\n",
    "    print(code)\n",
    "except:\n",
    "    print(\"There is no such a file with this name\")"
   ]
  },
  {
   "cell_type": "code",
   "execution_count": 72,
   "metadata": {},
   "outputs": [
    {
     "name": "stdout",
     "output_type": "stream",
     "text": [
      "['program', 'Exemplo', ';']\n",
      "oi\n",
      "['var']\n",
      "['numero1:', 'integer', ';']\n",
      ":\n",
      "['numero2:', 'double', ';']\n",
      ":\n",
      "['i:', 'integer', ';']\n",
      ":\n",
      "['']\n",
      "['begin']\n",
      "['numero1', ':=', '10', ';']\n",
      "Variavel não pode começar com um numero\n",
      "['numero2', ':=', '10.0', ';']\n",
      "Variavel não pode começar com um numero\n",
      "['']\n",
      "['for', 'i', ':=', '1', 'to', '5', 'do']\n",
      "['begin']\n",
      "[\"writeln('i:',\", 'i)', ';']\n",
      "(\n",
      ")\n",
      "['numero1', ':=', 'numero1', '+', '1', ';']\n",
      "['numero2', ':=', 'numero2', '+', '2.0', ';']\n",
      "Variavel não pode começar com um numero\n",
      "['end', ';']\n",
      "['']\n",
      "[\"writeln('Fim\", 'do', \"programa.')\", ';']\n",
      "(\n",
      ".\n",
      "['end.']\n",
      ".\n",
      "ain ze da manga {'key0': ['program', ['<special-symbol>'], 'linha 1'], 'key1': ['Exemplo', 'Ident', 'linha 2'], 'key2': [';', ['<special-symbol>'], 'linha 3'], 'key3': ['var', ['<special-symbol>'], 'linha 4'], 'key4': ['integer', ['<special-symbol>'], 'linha 5'], 'key5': [';', ['<special-symbol>'], 'linha 6'], 'key6': [';', ['<special-symbol>'], 'linha 7'], 'key7': ['integer', ['<special-symbol>'], 'linha 8'], 'key8': [';', ['<special-symbol>'], 'linha 9'], 'key9': ['', ['<identifier-2>', '<integer-constant2>'], 'linha 10'], 'key10': ['begin', ['<special-symbol>'], 'linha 11'], 'key11': [':=', ['<special-symbol>'], 'linha 12'], 'key12': [';', ['<special-symbol>'], 'linha 13'], 'key13': [':=', ['<special-symbol>'], 'linha 14'], 'key14': [';', ['<special-symbol>'], 'linha 15'], 'key15': ['', ['<identifier-2>', '<integer-constant2>'], 'linha 16'], 'key16': ['i', ['<letter>'], 'linha 17'], 'key17': [':=', ['<special-symbol>'], 'linha 18'], 'key18': ['1', ['<digit>'], 'linha 19'], 'key19': ['5', ['<digit>'], 'linha 20'], 'key20': ['do', ['<special-symbol>'], 'linha 21'], 'key21': ['begin', ['<special-symbol>'], 'linha 22'], 'key22': [';', ['<special-symbol>'], 'linha 23'], 'key23': [':=', ['<special-symbol>'], 'linha 24'], 'key24': ['+', ['<special-symbol>'], 'linha 25'], 'key25': ['1', ['<digit>'], 'linha 26'], 'key26': [';', ['<special-symbol>'], 'linha 27'], 'key27': [':=', ['<special-symbol>'], 'linha 28'], 'key28': ['+', ['<special-symbol>'], 'linha 29'], 'key29': [';', ['<special-symbol>'], 'linha 30'], 'key30': ['end', ['<special-symbol>'], 'linha 31'], 'key31': [';', ['<special-symbol>'], 'linha 32'], 'key32': ['', ['<identifier-2>', '<integer-constant2>'], 'linha 33'], 'key33': ['do', ['<special-symbol>'], 'linha 34'], 'key34': [';', ['<special-symbol>'], 'linha 35']}\n"
     ]
    }
   ],
   "source": [
    "tabela = dict()\n",
    "var = [] #lista responsavel por armazenar variaveis que o programa chama\n",
    "\n",
    "def makeline(aux):\n",
    "    line = aux.split(' ')\n",
    "    for i in range(len(line)):\n",
    "        for j in range(len(line[i])):\n",
    "            if ';' in line[i]:\n",
    "                line[i] = line[i].replace(';','')\n",
    "                line.append(';')\n",
    "    return line\n",
    "def TokenType(val):\n",
    "    return [chave for chave, values in token.items() if val in values]\n",
    "def ValidateIdentifier(val): #funcao que verificara se o valor esta de acordo com o lexema \n",
    "    #<identifier> = ['<letter> <identifier-2>']\n",
    "    if val[0] in token['<letter>']:\n",
    "        for i in range(1,len(val)):\n",
    "           if val[i] not in token['<letter>'] and val[i] not in token['<digit>']:\n",
    "               print(val[i])\n",
    "               return False\n",
    "        return True \n",
    "    else:\n",
    "        print('Variavel não pode começar com um numero')\n",
    "        return False\n",
    "\n",
    "\n",
    "i = 0\n",
    "for line in code_line:\n",
    "    if '//' not in line: #ignorar linhas comentarios\n",
    "        var_new = False #Quando um lexema nao corresponder com a linguagem e a variavel nao houver sido criada ele dispara\n",
    "        program = 0 #geralmente os tipos variaveis em mini pascal são declaradas apos o nome delas, ja programa, que o metodo de busca funciona da mesma forma de variavel\n",
    "        #o nome é declarado apos o token \"program\". Basicamente essa variavel serve como auxiliar, se mesmo apos ler a linha ela continuar ou nao achar ;, retornara um erro.\n",
    "        aux = makeline(line)\n",
    "        print(aux)\n",
    "        for v in aux:\n",
    "            if ';' in v and len(v) > 1:\n",
    "                v.replace(';','')\n",
    "                print(v.replace(';',''))\n",
    "                aux.append(';')\n",
    "            Ttype = TokenType(v)\n",
    "            if len(Ttype) > 0: #se o token eh valido\n",
    "                if 'program' == v:\n",
    "                    if program == 0:\n",
    "                        program = 1\n",
    "                        tabela['key'+str(i)] = [str(v),TokenType(v),f'linha {i+1}']\n",
    "                        i = i + 1\n",
    "                    else:\n",
    "                        print('Erro, PROGRAM nao pode ser redeclarado')\n",
    "                else:\n",
    "                    tabela['key'+str(i)] = [str(v),TokenType(v),f'linha {i+1}']\n",
    "                    i = i + 1\n",
    "            else: #Tratamentos para variaveis e outras coisas\n",
    "                if ValidateIdentifier(v) and v not in var:\n",
    "                    if program == 1:\n",
    "                        print('oi')\n",
    "                        tabela['key'+str(i)] = [str(v),'Ident',f'linha {i+1}']\n",
    "                        program = 2\n",
    "                        var.append(v)\n",
    "                        i = i + 1\n",
    "                    #if \n",
    "\n",
    "print(f'ain ze da manga {tabela}')"
   ]
  },
  {
   "cell_type": "code",
   "execution_count": 68,
   "metadata": {},
   "outputs": [
    {
     "name": "stdout",
     "output_type": "stream",
     "text": [
      "['program', 'Exemplo;']\n",
      "['program', 'Exemplo', ';']\n"
     ]
    }
   ],
   "source": [
    "#valor = '+'\n",
    "\n",
    "#chaves_correspondentes = [chave for chave, valores in token.items() if valor in valores]\n",
    "#chaves_correspondentes\n",
    "a = 'a1'\n",
    "if a[1] in token['<letter>']:\n",
    "    print('aceito')\n",
    "\n",
    "def makeline(aux):\n",
    "    line = aux.split(' ')\n",
    "    for i in range(len(line)):\n",
    "        for j in range(len(line[i])):\n",
    "            if ';' in line[i]:\n",
    "                line[i] = line[i].replace(';','')\n",
    "                line.append(';')\n",
    "    return line\n",
    "\n",
    "\n",
    "print(makeline('program Exemplo;'))\n"
   ]
  }
 ],
 "metadata": {
  "kernelspec": {
   "display_name": "Python 3",
   "language": "python",
   "name": "python3"
  },
  "language_info": {
   "codemirror_mode": {
    "name": "ipython",
    "version": 3
   },
   "file_extension": ".py",
   "mimetype": "text/x-python",
   "name": "python",
   "nbconvert_exporter": "python",
   "pygments_lexer": "ipython3",
   "version": "3.11.2"
  },
  "orig_nbformat": 4
 },
 "nbformat": 4,
 "nbformat_minor": 2
}
