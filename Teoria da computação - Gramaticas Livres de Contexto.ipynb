{
 "cells": [
  {
   "cell_type": "markdown",
   "metadata": {},
   "source": [
    "**TRABALHO DE TEORIA DA COMPUTAÇÃO**\n",
    "\n",
    "*   Nesse Notebook Python contém um código baseado na biblioteca feita em aula, onde há uma função recursiva que pega todas sentenças possiveis até N simbolos de linguagem\n",
    "*   Trabalho feito peloz pelos alunos:\n",
    " \n",
    "1. Matheus Henrique                             RA: 5037049\n",
    "2. Renan Cruz                                   RA: 3346165\n",
    "3. Victor Filippi                               RA: 5148846\n",
    "4. Lucas Paraiso                                RA: 6296471\n",
    "5. Ester Amorim                                 RA: 1288391\n"
   ]
  },
  {
   "cell_type": "markdown",
   "metadata": {},
   "source": [
    "**Classe GLC**"
   ]
  },
  {
   "cell_type": "code",
   "execution_count": 7,
   "metadata": {},
   "outputs": [],
   "source": [
    "import glc as glc"
   ]
  },
  {
   "cell_type": "markdown",
   "metadata": {},
   "source": [
    "**Teste 1**"
   ]
  },
  {
   "cell_type": "code",
   "execution_count": 4,
   "metadata": {},
   "outputs": [
    {
     "name": "stdout",
     "output_type": "stream",
     "text": [
      "Não Terminais: ['S', 'A', 'B']\n",
      "Terminais: ['a', 'b', 'c']\n",
      "Símbolo Inicial: S\n",
      "Produções: {'S': ['AB', 'B'], 'A': ['aAb', 'ab'], 'B': ['cB', 'c', '']}\n",
      "Sentenças Geradas: ['', 'c', 'cc', 'ab', 'ccc', 'abc', 'aabb', 'cccc', 'abcc', 'ccccc', 'aabbc', 'abccc', 'abcccc', 'cccccc', 'aaabbb', 'aabbcc', 'ccccccc', 'abccccc', 'aabbccc', 'aaabbbc', 'aaabbbcc', 'abcccccc', 'cccccccc', 'aaaabbbb', 'aabbcccc', 'abccccccc', 'aaaabbbbc', 'aaabbbccc', 'ccccccccc', 'aabbccccc', 'aaaabbbbcc', 'aabbcccccc', 'abcccccccc', 'aaabbbcccc', 'cccccccccc']\n"
     ]
    }
   ],
   "source": [
    "G = glc.glc()\n",
    "G.Vn = ['S','A','B']\n",
    "G.Vt = ['a','b','c']\n",
    "G.P = {'S':['AB', 'B'],'A':['aAb','ab'],'B':['cB','c','']}\n",
    "\n",
    "G.defineSimboloInicial('S')\n",
    "G.gerarNSentencas(G.Vn[0],10,'',True)\n",
    "G.mostraGramatica()"
   ]
  },
  {
   "cell_type": "markdown",
   "metadata": {},
   "source": [
    "**Teste 2**"
   ]
  },
  {
   "cell_type": "code",
   "execution_count": 9,
   "metadata": {},
   "outputs": [
    {
     "name": "stdout",
     "output_type": "stream",
     "text": [
      "Não Terminais: ['S', 'A']\n",
      "Terminais: ['a', 'b', 'c', 'd']\n",
      "Símbolo Inicial: S\n",
      "Produções: {'S': ['aSd', 'aAd', 'A', 'ad', ''], 'A': ['bAc', 'bc', '']}\n",
      "Sentenças Geradas: ['', 'bc', 'ad', 'bbcc', 'abcd', 'aadd', 'abbccd', 'bbbccc', 'aabcdd', 'aaaddd', 'aaabcddd', 'abbbcccd', 'aabbccdd', 'bbbbcccc', 'aaaadddd', 'abbbbccccd', 'bbbbbccccc', 'aabbbcccdd', 'aaabbccddd', 'aaaabcdddd', 'aaaaaddddd']\n"
     ]
    }
   ],
   "source": [
    "G = glc.glc()\n",
    "G.Vn = ['S','A']\n",
    "G.Vt = ['a','b','c','d']\n",
    "G.P = {'S':['aSd','aAd','A','ad' ,''],'A':['bAc','bc', '']}\n",
    "\n",
    "G.defineSimboloInicial('S')\n",
    "G.gerarNSentencas(G.Vn[0],10,'',True)\n",
    "G.mostraGramatica()"
   ]
  },
  {
   "cell_type": "markdown",
   "metadata": {},
   "source": [
    "**Teste 3**"
   ]
  },
  {
   "cell_type": "code",
   "execution_count": 11,
   "metadata": {},
   "outputs": [
    {
     "name": "stdout",
     "output_type": "stream",
     "text": [
      "Não Terminais: ['S', 'A']\n",
      "Terminais: ['a', 'b', 'c']\n",
      "Símbolo Inicial: S\n",
      "Produções: {'S': ['aSc', 'aAc'], 'A': ['bAc', 'bc']}\n",
      "Sentenças Geradas: ['abcc', 'aabccc', 'abbccc', 'aabbcccc', 'aaabcccc', 'abbbcccc', 'aabbbccccc', 'abbbbccccc', 'aaabbccccc', 'aaaabccccc']\n"
     ]
    }
   ],
   "source": [
    "G = glc.glc()\n",
    "G.Vn = ['S','A']\n",
    "G.Vt = ['a','b','c']\n",
    "G.P = {'S':['aSc','aAc'],'A':['bAc','bc']}\n",
    "\n",
    "G.defineSimboloInicial('S')\n",
    "G.gerarNSentencas(G.Vn[0],10,'',True)\n",
    "G.mostraGramatica()"
   ]
  },
  {
   "cell_type": "markdown",
   "metadata": {},
   "source": [
    "**Salvar Sentenças em um Arquivo para confirmação no jFLAP**"
   ]
  },
  {
   "cell_type": "code",
   "execution_count": 12,
   "metadata": {},
   "outputs": [],
   "source": [
    "arq = open('sentenças.txt', 'w')\n",
    "for item in G.Fs:\n",
    "    arq.write(f'{item}\\n')\n",
    "arq.close()"
   ]
  }
 ],
 "metadata": {
  "kernelspec": {
   "display_name": "Python 3.11.0 64-bit",
   "language": "python",
   "name": "python3"
  },
  "language_info": {
   "codemirror_mode": {
    "name": "ipython",
    "version": 3
   },
   "file_extension": ".py",
   "mimetype": "text/x-python",
   "name": "python",
   "nbconvert_exporter": "python",
   "pygments_lexer": "ipython3",
   "version": "3.11.0"
  },
  "orig_nbformat": 4,
  "vscode": {
   "interpreter": {
    "hash": "552c98ba2264a5fe1817931190a685af5d7222463a443209ce9f018bfce826b4"
   }
  }
 },
 "nbformat": 4,
 "nbformat_minor": 2
}
