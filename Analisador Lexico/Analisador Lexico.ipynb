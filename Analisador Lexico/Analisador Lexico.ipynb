{
 "cells": [
  {
   "attachments": {},
   "cell_type": "markdown",
   "metadata": {},
   "source": [
    "Para a formulacao da tabela, o nosso grupo decidiu por usar a estrutura de dados hash pela sua propriedade de buscas baseadas em classes, sendo mais apropriado para uma tabela que, muito provavelmente, ira repetir os tipos de tokens"
   ]
  },
  {
   "cell_type": "code",
   "execution_count": null,
   "metadata": {},
   "outputs": [],
   "source": [
    "import hash\n",
    "import avl"
   ]
  }
 ],
 "metadata": {
  "language_info": {
   "name": "python"
  },
  "orig_nbformat": 4
 },
 "nbformat": 4,
 "nbformat_minor": 2
}
