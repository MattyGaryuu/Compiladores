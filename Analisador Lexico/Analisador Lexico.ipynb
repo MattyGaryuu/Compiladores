{
 "cells": [
  {
   "attachments": {},
   "cell_type": "markdown",
   "metadata": {},
   "source": [
    "O nosso grupo, apos pesquisas, decidiu utilizar-se de hash para ambas tabelas e palavras reservadas da linguagem, pois apos pesquisas, descobrirmos que ha uma funcao em python que internamente utiliza-se de um algoritmo de hashmap chamada dict"
   ]
  },
  {
   "attachments": {},
   "cell_type": "markdown",
   "metadata": {},
   "source": [
    "**Sintaxes**"
   ]
  },
  {
   "cell_type": "code",
   "execution_count": 51,
   "metadata": {},
   "outputs": [
    {
     "name": "stdout",
     "output_type": "stream",
     "text": [
      "<program> = ['<program> <identifier> ;']\n",
      "<variable-declaration-part> = ['', 'var <variable-declaration>']\n",
      "<variable-declaration> = ['<identifier> <variable-declaration2> : <type> ;', '<variable-declaration>']\n",
      "<variable-declaration2> = [', <identifier> ', '']\n",
      "<type> = ['<simple-type>', '<array-type>']\n",
      "<array-type> = ['array [ <index-range> ] of <simple-type>']\n",
      "<index-range> = ['<integer-constant> .. <integer-constant>']\n",
      "<simple-type> = ['char', 'integer', 'boolean']\n",
      "<type-identifier> = ['<identifier>']\n",
      "<statement-part> = ['<compound-statement>']\n",
      "<compound statement> = [' begin <statement> end']\n",
      "<statement> = ['<simple-statement> ;', '<structured-statement> ;', '<statement> ;']\n",
      "<simple-statement> = ['<assignment-statement>', '<read-statement>', '<write-statement>']\n",
      "<assignment-statement> = ['<variable> := <expression>']\n",
      "<read-statement> = ['read ( <variable> <function-call> )']\n",
      "<write-statement> = ['write ( <variable> <function-call> )']\n",
      "<structured-statement> = ['<compound-statement>', '<if-statement>', '<while-statement>']\n",
      "<if-statement> = [' if <expression> then <statement>', 'if <expression> then <statement> else <statement>']\n",
      "<while-statement> = ['while <expression> do <statement>']\n",
      "<expression> = ['<simple-expression>', '<simple-expression> <relational-operator> <simple-expression>']\n",
      "<simple-expression> = ['<sign> <term> <simple-expression2>']\n",
      "<simple-expression2> = ['<adding operator> <term>', '']\n",
      "<term> = ['<factor> { <multiplying operator> <factor> }']\n",
      "<term-2> = ['<multiplying operator> <factor>', '']\n",
      "<factor> = ['<variable>', '<constant>', '( <expression> )', 'not <factor>']\n",
      "<relational operator> = ['=', '<>', '<', '<=', '>=', '>', 'or', 'and']\n",
      "<sign> = ['+', 'Â\\xad', '<empty>']\n",
      "<adding operator> = [' +', 'Â\\xad']\n",
      "<multiplying operator> = ['*', 'div']\n",
      "<variable> = ['<entire-variable>', '<indexed-variable>']\n",
      "<indexed-variable> = ['<array-variable> [ <expression> ]']\n",
      "<array-variable> = ['<entire-variable>']\n",
      "<entire variable> = ['<variable-identifier>']\n",
      "<variable-identifier> = ['<identifier>']\n",
      "<constant> = ['<integer-constant>', '<character-constant>', '<constant-identifier>']\n",
      "<constant identifier> = ['<identifier>']\n",
      "<identifier> = ['<letter> <identifier-2>']\n",
      "<identifier-2> = ['<letter-or-digit>', '']\n",
      "<letter-or-digit> = ['<letter>', '<digit>']\n",
      "<integer-constant> = ['<digit> <integer-constant2>']\n",
      "<integer-constant2> = ['<digit>', '']\n",
      "<character-constant> = [\"' <letter-or-digit> '\", '\" <letter-or-digit> <identifier-2> \"']\n",
      "<letter> = ['a', 'b', 'c', 'd', 'e', 'f', 'g', 'h', 'i', 'j', 'k', 'l', 'm', 'n', 'o', '']\n",
      "p = ['q', 'r', 's', 't', 'u', 'v', 'w', 'x', 'y', 'z', 'A', 'B', 'C |']\n",
      "D = ['E', 'F', 'G', 'H', 'I', 'J', 'K', 'L', 'M', 'N', 'O', 'P']\n",
      "| Q = ['R', 'S', 'T', 'W', 'V', 'W', 'X', 'Y', 'Z']\n",
      "<digit> = ['0', '1', '2', '3', '4', '5', '6', '7', '8', '9']\n",
      "<special-symbol> = [' +', 'Â\\xad', '*', '=', '<>', '<', '>', '<=', '>= |']\n",
      "( = [')', '[', ']', ':=', '.', ',', ';', ':', '..', 'div', 'or', 'and', 'not', 'if', 'then', 'else', 'of |']\n",
      "while = ['do', 'begin', 'end', 'read', 'write', 'var', 'array', 'function |']\n",
      "procedure = ['program', 'true', 'false', 'char', 'integer', 'boolean']\n",
      "<function-call> = [' , <variable>', '<function-call>', '']\n"
     ]
    }
   ],
   "source": [
    "try:\n",
    "    filename = \"Sintax.txt\"\n",
    "    arq = open(filename,'r')\n",
    "    sintax = dict()\n",
    "\n",
    "    for line in arq:\n",
    "        aux = line.replace(\" | \",\"::=\").strip().split(\"::=\") #lista auxiliar que transforma | em ::= para que toda vez que seja lixo ::= a string seja quebrada em 2 partes\n",
    "        if aux[0] not in sintax: #Sempre a primeira parte da variavel auxiliar sera o nome do dict\n",
    "            sintax[str(aux[0])] = []\n",
    "        \n",
    "        for i in range(1,len(aux)):\n",
    "            sintax[str(aux[0])].append(str(aux[i]))\n",
    "    for i in sintax:\n",
    "        print(f'{i} = {sintax.get(i)}')\n",
    "except:\n",
    "    print(\"There is no such a file with this name\")    \n"
   ]
  },
  {
   "attachments": {},
   "cell_type": "markdown",
   "metadata": {},
   "source": [
    "**Abrir um arquivo txt que contenha um mini pascal**"
   ]
  },
  {
   "cell_type": "code",
   "execution_count": 50,
   "metadata": {},
   "outputs": [
    {
     "name": "stdout",
     "output_type": "stream",
     "text": [
      "program recursiveFibonacci;\n",
      "var\n",
      "   i: integer;\n",
      "function fibonacci(n: integer): integer;\n",
      "\n",
      "begin\n",
      "   if n=1 then\n",
      "      fibonacci := 0\n",
      "   \n",
      "   else if n=2 then\n",
      "      fibonacci := 1\n",
      "   \n",
      "   else\n",
      "      fibonacci := fibonacci(n-1) + fibonacci(n-2);\n",
      "end; \n",
      "\n",
      "begin\n",
      "   for i:= 1 to 10 do\n",
      "   \n",
      "   write(fibonacci (i), '  ');\n",
      "end.\n"
     ]
    }
   ],
   "source": [
    "try:\n",
    "    filename = str(input('File name: '))\n",
    "    arq = open(filename + '.txt','r')\n",
    "    code = \"\"\n",
    "\n",
    "    for line in arq:\n",
    "        code = code + line\n",
    "    print(code)\n",
    "except:\n",
    "    print(\"There is no such a file with this name\")"
   ]
  },
  {
   "cell_type": "code",
   "execution_count": 13,
   "metadata": {},
   "outputs": [
    {
     "ename": "ValueError",
     "evalue": "80 is not in list",
     "output_type": "error",
     "traceback": [
      "\u001b[1;31m---------------------------------------------------------------------------\u001b[0m",
      "\u001b[1;31mValueError\u001b[0m                                Traceback (most recent call last)",
      "Cell \u001b[1;32mIn[13], line 2\u001b[0m\n\u001b[0;32m      1\u001b[0m strs \u001b[39m=\u001b[39m []\n\u001b[1;32m----> 2\u001b[0m \u001b[39mprint\u001b[39m(strs\u001b[39m.\u001b[39;49mindex(\u001b[39m80\u001b[39;49m))\n",
      "\u001b[1;31mValueError\u001b[0m: 80 is not in list"
     ]
    }
   ],
   "source": [
    "teste = dict()\n",
    "teste['sexo no zap'] = [\"ai como eh bom dar\"]\n",
    "teste['sexo no zap'].append('puta que pariu eh o pior time do brasil')\n",
    "strs = []\n",
    "print(strs.index(80))"
   ]
  }
 ],
 "metadata": {
  "kernelspec": {
   "display_name": "Python 3",
   "language": "python",
   "name": "python3"
  },
  "language_info": {
   "codemirror_mode": {
    "name": "ipython",
    "version": 3
   },
   "file_extension": ".py",
   "mimetype": "text/x-python",
   "name": "python",
   "nbconvert_exporter": "python",
   "pygments_lexer": "ipython3",
   "version": "3.11.2"
  },
  "orig_nbformat": 4
 },
 "nbformat": 4,
 "nbformat_minor": 2
}
