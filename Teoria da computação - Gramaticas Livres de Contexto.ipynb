{
 "cells": [
  {
   "cell_type": "markdown",
   "metadata": {},
   "source": [
    "**TRABALHO DE TEORIA DA COMPUTAÇÃO**\n",
    "\n",
    "*   Nesse Notebook Python contém um código baseado na biblioteca feita em aula, onde há uma função recursiva que pega todas sentenças possiveis até N simbolos de linguagem\n",
    "*   Trabalho feito peloz pelos alunos:\n",
    " \n",
    "1. Matheus Henrique                             RA: 5037049\n",
    "2. Renan Cruz                                   RA: 3346165\n",
    "3. Victor Filippi                               RA: 5148846\n",
    "4. Lucas Paraiso                                RA: 6296471\n",
    "5. Ester Amorim                                 RA: 1288391\n"
   ]
  },
  {
   "cell_type": "markdown",
   "metadata": {},
   "source": [
    "**Classe GLC**"
   ]
  },
  {
   "cell_type": "code",
   "execution_count": 6,
   "metadata": {},
   "outputs": [],
   "source": [
    "import glc as glc"
   ]
  },
  {
   "cell_type": "markdown",
   "metadata": {},
   "source": [
    "**Teste 1**"
   ]
  },
  {
   "cell_type": "code",
   "execution_count": 15,
   "metadata": {},
   "outputs": [
    {
     "name": "stdout",
     "output_type": "stream",
     "text": [
      "Não Terminais: ['S', 'A', 'B']\n",
      "Terminais: ['a', 'b', 'c']\n",
      "Símbolo Inicial: S\n",
      "Produções: {'S': ['AB'], 'A': ['aAb', 'ab'], 'B': ['cB', 'c', '']}\n",
      "Sentenças Geradas: ['ab', 'abc', 'abcc', 'aabb', 'aabbc', 'abccc', 'aabbcc', 'abcccc', 'aaabbb', 'aaabbbc', 'aabbccc', 'abccccc', 'aaabbbcc', 'aabbcccc', 'aaaabbbb', 'abcccccc', 'aabbccccc', 'aaabbbccc', 'aaaabbbbc', 'abccccccc', 'aaabbbcccc', 'aabbcccccc', 'aaaabbbbcc', 'abcccccccc']\n"
     ]
    }
   ],
   "source": [
    "G = glc.glc()\n",
    "G.Vn = ['S','A','B']\n",
    "G.Vt = ['a','b','c']\n",
    "G.P = {'S':['AB'],'A':['aAb','ab'],'B':['cB','c','']}\n",
    "\n",
    "G.defineSimboloInicial('S')\n",
    "G.gerarNSentencas(G.Vn[0],10,'',True)\n",
    "G.mostraGramatica()"
   ]
  },
  {
   "cell_type": "markdown",
   "metadata": {},
   "source": [
    "**Teste 2**"
   ]
  },
  {
   "cell_type": "code",
   "execution_count": 19,
   "metadata": {},
   "outputs": [
    {
     "name": "stdout",
     "output_type": "stream",
     "text": [
      "Não Terminais: ['S', 'A']\n",
      "Terminais: ['a', 'b', 'c', 'd']\n",
      "Símbolo Inicial: S\n",
      "Produções: {'S': ['aSd', 'aAd'], 'A': ['bAc', 'bc']}\n",
      "Sentenças Geradas: ['abcd', 'aabcdd', 'abbccd', 'abbbcccd', 'aabbccdd', 'aaabcddd', 'aabbbcccdd', 'aaabbccddd', 'aaaabcdddd', 'abbbbccccd']\n"
     ]
    }
   ],
   "source": [
    "G = glc.glc()\n",
    "G.Vn = ['S','A']\n",
    "G.Vt = ['a','b','c','d']\n",
    "G.P = {'S':['aSd','aAd'],'A':['bAc','bc']}\n",
    "\n",
    "G.defineSimboloInicial('S')\n",
    "G.gerarNSentencas(G.Vn[0],10,'',True)\n",
    "G.mostraGramatica()"
   ]
  },
  {
   "cell_type": "markdown",
   "metadata": {},
   "source": [
    "**Salvar Sentenças em um Arquivo para confirmação no jFLAP**"
   ]
  },
  {
   "cell_type": "code",
   "execution_count": 20,
   "metadata": {},
   "outputs": [],
   "source": [
    "arq = open('sentenças.txt', 'w')\n",
    "for item in G.Fs:\n",
    "    arq.write(f'{item}\\n')"
   ]
  }
 ],
 "metadata": {
  "kernelspec": {
   "display_name": "Python 3.11.0 64-bit",
   "language": "python",
   "name": "python3"
  },
  "language_info": {
   "codemirror_mode": {
    "name": "ipython",
    "version": 3
   },
   "file_extension": ".py",
   "mimetype": "text/x-python",
   "name": "python",
   "nbconvert_exporter": "python",
   "pygments_lexer": "ipython3",
   "version": "3.11.0"
  },
  "orig_nbformat": 4,
  "vscode": {
   "interpreter": {
    "hash": "552c98ba2264a5fe1817931190a685af5d7222463a443209ce9f018bfce826b4"
   }
  }
 },
 "nbformat": 4,
 "nbformat_minor": 2
}
